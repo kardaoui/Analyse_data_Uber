{
 "cells": [
  {
   "cell_type": "code",
   "execution_count": 1,
   "id": "15f6c2ca-2d1f-4622-a580-7ea494bf305f",
   "metadata": {},
   "outputs": [],
   "source": [
    "import os\n",
    "import pandas as pd\n",
    "import numpy as np"
   ]
  },
  {
   "cell_type": "code",
   "execution_count": 2,
   "id": "718d45ee-561e-4cf0-a880-c188231f1ddd",
   "metadata": {},
   "outputs": [],
   "source": [
    "list_csv = list(filter(lambda f: f.endswith('.csv'), os.listdir()))"
   ]
  },
  {
   "cell_type": "code",
   "execution_count": 3,
   "id": "d5428d58-2780-4989-ba6f-50f2cbdf9426",
   "metadata": {},
   "outputs": [
    {
     "data": {
      "text/plain": [
       "['01a_Driver_Profile_Data.csv',\n",
       " '02_Driver_Lifetime_Trips.csv',\n",
       " '10_Driver_Online_Offline.csv',\n",
       " '14_Driver_Dispatches_Offeredand_Accepted.csv',\n",
       " '16_Driver_Trip_Status.csv',\n",
       " '17_Driver_Cancellations_From_Riders.csv',\n",
       " '19a_Driver_Payments.csv']"
      ]
     },
     "execution_count": 3,
     "metadata": {},
     "output_type": "execute_result"
    }
   ],
   "source": [
    "list_csv"
   ]
  },
  {
   "cell_type": "code",
   "execution_count": 4,
   "id": "b766a2d7-2e02-4694-8d9b-1b74cca0fe36",
   "metadata": {},
   "outputs": [
    {
     "data": {
      "text/plain": [
       "'Driver_Profile_Data = pd.read_csv(\"01a_Driver_Profile_Data.csv\")\\n#Driver_Lifetime_Trips = pd.read_csv(\"02_Driver_Lifetime_Trips.csv\")\\nDriver_Online_Offline = pd.read_csv(\"10_Driver_Online_Offline.csv\")\\n#Driver_Dispatches_Offeredand_Accepted = pd.read_csv(\"14_Driver_Dispatches_Offeredand_Accepted.csv\")\\nDriver_Trip_Status = pd.read_csv(\"16_Driver_Trip_Status.csv\")\\nDriver_Cancellations_From_Riders = pd.read_csv(\"17_Driver_Cancellations_From_Riders.csv\")\\nDriver_Payments = pd.read_csv(\"19a_Driver_Payments.csv\")'"
      ]
     },
     "execution_count": 4,
     "metadata": {},
     "output_type": "execute_result"
    }
   ],
   "source": [
    "\"\"\"Driver_Profile_Data = pd.read_csv(\"01a_Driver_Profile_Data.csv\")\n",
    "#Driver_Lifetime_Trips = pd.read_csv(\"02_Driver_Lifetime_Trips.csv\")\n",
    "Driver_Online_Offline = pd.read_csv(\"10_Driver_Online_Offline.csv\")\n",
    "#Driver_Dispatches_Offeredand_Accepted = pd.read_csv(\"14_Driver_Dispatches_Offeredand_Accepted.csv\")\n",
    "Driver_Trip_Status = pd.read_csv(\"16_Driver_Trip_Status.csv\")\n",
    "Driver_Cancellations_From_Riders = pd.read_csv(\"17_Driver_Cancellations_From_Riders.csv\")\n",
    "Driver_Payments = pd.read_csv(\"19a_Driver_Payments.csv\")\"\"\""
   ]
  },
  {
   "cell_type": "markdown",
   "id": "7e8f0724-2f03-4a7d-89be-4be106e40624",
   "metadata": {},
   "source": [
    "# 01- Driver account profile information\n",
    "\n",
    "\n",
    "Driver_Profile_Data.csv contiennent les informations de base sur le profil compte conducteur."
   ]
  },
  {
   "cell_type": "code",
   "execution_count": 5,
   "id": "dec41fb8-fd15-4d44-b355-01b87d031ba0",
   "metadata": {},
   "outputs": [],
   "source": [
    "Driver_Profile_Data = pd.read_csv(\"01a_Driver_Profile_Data.csv\")"
   ]
  },
  {
   "cell_type": "code",
   "execution_count": 6,
   "id": "877ca75f-ff6b-42e2-a5d3-879e0a5eb0ce",
   "metadata": {},
   "outputs": [
    {
     "data": {
      "text/html": [
       "<div>\n",
       "<style scoped>\n",
       "    .dataframe tbody tr th:only-of-type {\n",
       "        vertical-align: middle;\n",
       "    }\n",
       "\n",
       "    .dataframe tbody tr th {\n",
       "        vertical-align: top;\n",
       "    }\n",
       "\n",
       "    .dataframe thead th {\n",
       "        text-align: right;\n",
       "    }\n",
       "</style>\n",
       "<table border=\"1\" class=\"dataframe\">\n",
       "  <thead>\n",
       "    <tr style=\"text-align: right;\">\n",
       "      <th></th>\n",
       "      <th>firstname</th>\n",
       "      <th>lastname</th>\n",
       "      <th>email</th>\n",
       "      <th>is_uber_email</th>\n",
       "      <th>mobile_country_code</th>\n",
       "      <th>contact_number</th>\n",
       "      <th>is_partner</th>\n",
       "      <th>is_polymorphed</th>\n",
       "      <th>is_fleet_active</th>\n",
       "      <th>is_subscribed_sms</th>\n",
       "      <th>...</th>\n",
       "      <th>first_eats_completed_trip_timestamp</th>\n",
       "      <th>first_role</th>\n",
       "      <th>partner_fleet_type</th>\n",
       "      <th>preferred_name</th>\n",
       "      <th>primary_role</th>\n",
       "      <th>secondary_role</th>\n",
       "      <th>tertiary_role</th>\n",
       "      <th>is_fleet_driver</th>\n",
       "      <th>signup_country_id</th>\n",
       "      <th>first_rides_completed_trip_timestamp</th>\n",
       "    </tr>\n",
       "  </thead>\n",
       "  <tbody>\n",
       "    <tr>\n",
       "      <th>0</th>\n",
       "      <td>El Mahdi</td>\n",
       "      <td>Kardaoui</td>\n",
       "      <td>elm.kar85@outlook.com</td>\n",
       "      <td>False</td>\n",
       "      <td>33</td>\n",
       "      <td>616627080</td>\n",
       "      <td>False</td>\n",
       "      <td>False</td>\n",
       "      <td>False</td>\n",
       "      <td>True</td>\n",
       "      <td>...</td>\n",
       "      <td>NaN</td>\n",
       "      <td>partner</td>\n",
       "      <td>NaN</td>\n",
       "      <td>El Mahdi</td>\n",
       "      <td>driver</td>\n",
       "      <td>NaN</td>\n",
       "      <td>NaN</td>\n",
       "      <td>True</td>\n",
       "      <td>61</td>\n",
       "      <td>2020-08-22T20:20:27.000Z</td>\n",
       "    </tr>\n",
       "  </tbody>\n",
       "</table>\n",
       "<p>1 rows × 46 columns</p>\n",
       "</div>"
      ],
      "text/plain": [
       "  firstname  lastname                  email  is_uber_email  \\\n",
       "0  El Mahdi  Kardaoui  elm.kar85@outlook.com          False   \n",
       "\n",
       "   mobile_country_code  contact_number  is_partner  is_polymorphed  \\\n",
       "0                   33       616627080       False           False   \n",
       "\n",
       "   is_fleet_active  is_subscribed_sms  ...  \\\n",
       "0            False               True  ...   \n",
       "\n",
       "   first_eats_completed_trip_timestamp  first_role  partner_fleet_type  \\\n",
       "0                                  NaN     partner                 NaN   \n",
       "\n",
       "   preferred_name  primary_role secondary_role tertiary_role is_fleet_driver  \\\n",
       "0        El Mahdi        driver            NaN           NaN            True   \n",
       "\n",
       "  signup_country_id first_rides_completed_trip_timestamp  \n",
       "0                61             2020-08-22T20:20:27.000Z  \n",
       "\n",
       "[1 rows x 46 columns]"
      ]
     },
     "execution_count": 6,
     "metadata": {},
     "output_type": "execute_result"
    }
   ],
   "source": [
    "Driver_Profile_Data.head()"
   ]
  },
  {
   "cell_type": "code",
   "execution_count": 7,
   "id": "6a51dc68-7d81-4c9f-b166-1fe953b40275",
   "metadata": {},
   "outputs": [
    {
     "data": {
      "text/plain": [
       "(1, 46)"
      ]
     },
     "execution_count": 7,
     "metadata": {},
     "output_type": "execute_result"
    }
   ],
   "source": [
    "Driver_Profile_Data.shape"
   ]
  },
  {
   "cell_type": "markdown",
   "id": "b8ced02e-9804-442b-af22-40ab623d7ef1",
   "metadata": {},
   "source": [
    "# 02 Driver lifetime trip data\n",
    "\n",
    "\n",
    "02_Driver_Lifetime_Trips.csv : Ce document fournit des informations sur le nombre total de voyages.\n"
   ]
  },
  {
   "cell_type": "code",
   "execution_count": 8,
   "id": "830442ab-9359-40d2-aadf-334f6863114a",
   "metadata": {},
   "outputs": [],
   "source": [
    "Driver_Lifetime_Trips = pd.read_csv(\"02_Driver_Lifetime_Trips.csv\")"
   ]
  },
  {
   "cell_type": "code",
   "execution_count": 34,
   "id": "8632cf7a-ab10-495c-b58f-fbb42dbda082",
   "metadata": {},
   "outputs": [],
   "source": [
    "driver_lifetime = Driver_Lifetime_Trips.copy()"
   ]
  },
  {
   "cell_type": "code",
   "execution_count": 10,
   "id": "aef1e651-ced3-4d00-91b5-f8c6f76bd3dd",
   "metadata": {},
   "outputs": [
    {
     "data": {
      "text/plain": [
       "(2310, 88)"
      ]
     },
     "execution_count": 10,
     "metadata": {},
     "output_type": "execute_result"
    }
   ],
   "source": [
    "driver_lifetime.shape"
   ]
  },
  {
   "cell_type": "code",
   "execution_count": 11,
   "id": "59c69291-3a9f-4207-82b1-c0a258b1df11",
   "metadata": {},
   "outputs": [
    {
     "data": {
      "text/html": [
       "<div>\n",
       "<style scoped>\n",
       "    .dataframe tbody tr th:only-of-type {\n",
       "        vertical-align: middle;\n",
       "    }\n",
       "\n",
       "    .dataframe tbody tr th {\n",
       "        vertical-align: top;\n",
       "    }\n",
       "\n",
       "    .dataframe thead th {\n",
       "        text-align: right;\n",
       "    }\n",
       "</style>\n",
       "<table border=\"1\" class=\"dataframe\">\n",
       "  <thead>\n",
       "    <tr style=\"text-align: right;\">\n",
       "      <th></th>\n",
       "      <th>uuid</th>\n",
       "      <th>vehicle_uuid</th>\n",
       "      <th>city_id</th>\n",
       "      <th>currency_code</th>\n",
       "      <th>timezone</th>\n",
       "      <th>flow</th>\n",
       "      <th>source_tag</th>\n",
       "      <th>product_type_name</th>\n",
       "      <th>global_product_name</th>\n",
       "      <th>request_timestamp_local</th>\n",
       "      <th>...</th>\n",
       "      <th>long_distance_surcharge_usd</th>\n",
       "      <th>guaranteed_surge_multiplier</th>\n",
       "      <th>ufp_type</th>\n",
       "      <th>cancellation_type</th>\n",
       "      <th>carrier_mcc</th>\n",
       "      <th>carrier_mnc</th>\n",
       "      <th>is_directed_dispatch_trip</th>\n",
       "      <th>wait_duration_minutes</th>\n",
       "      <th>is_scheduled_trip</th>\n",
       "      <th>is_airport_trip</th>\n",
       "    </tr>\n",
       "  </thead>\n",
       "  <tbody>\n",
       "    <tr>\n",
       "      <th>0</th>\n",
       "      <td>350df378-4497-42a0-9910-487ef5acd990</td>\n",
       "      <td>e18fa882-cf34-4c19-9bb0-cf4067022310</td>\n",
       "      <td>3</td>\n",
       "      <td>EUR</td>\n",
       "      <td>Europe/Paris</td>\n",
       "      <td>Black</td>\n",
       "      <td>NaN</td>\n",
       "      <td>uberX</td>\n",
       "      <td>UberX</td>\n",
       "      <td>2022-02-02T19:29:37.000Z</td>\n",
       "      <td>...</td>\n",
       "      <td>NaN</td>\n",
       "      <td>NaN</td>\n",
       "      <td>ufp_honored</td>\n",
       "      <td>NaN</td>\n",
       "      <td>208.0</td>\n",
       "      <td>20.0</td>\n",
       "      <td>False</td>\n",
       "      <td>NaN</td>\n",
       "      <td>False</td>\n",
       "      <td>False</td>\n",
       "    </tr>\n",
       "    <tr>\n",
       "      <th>1</th>\n",
       "      <td>3afbb3a4-412a-4f3d-a0f4-f9ba79641b44</td>\n",
       "      <td>e18fa882-cf34-4c19-9bb0-cf4067022310</td>\n",
       "      <td>3</td>\n",
       "      <td>EUR</td>\n",
       "      <td>Europe/Paris</td>\n",
       "      <td>Black</td>\n",
       "      <td>NaN</td>\n",
       "      <td>GREEN</td>\n",
       "      <td>UberX</td>\n",
       "      <td>2022-02-02T18:29:26.000Z</td>\n",
       "      <td>...</td>\n",
       "      <td>NaN</td>\n",
       "      <td>NaN</td>\n",
       "      <td>ufp_honored</td>\n",
       "      <td>NaN</td>\n",
       "      <td>270.0</td>\n",
       "      <td>77.0</td>\n",
       "      <td>False</td>\n",
       "      <td>NaN</td>\n",
       "      <td>False</td>\n",
       "      <td>False</td>\n",
       "    </tr>\n",
       "    <tr>\n",
       "      <th>2</th>\n",
       "      <td>1f04d2cb-0222-4f0a-bfaa-36fcde986262</td>\n",
       "      <td>e18fa882-cf34-4c19-9bb0-cf4067022310</td>\n",
       "      <td>3</td>\n",
       "      <td>EUR</td>\n",
       "      <td>Europe/Paris</td>\n",
       "      <td>Black</td>\n",
       "      <td>NaN</td>\n",
       "      <td>uberX</td>\n",
       "      <td>UberX</td>\n",
       "      <td>2022-02-02T14:21:19.000Z</td>\n",
       "      <td>...</td>\n",
       "      <td>NaN</td>\n",
       "      <td>NaN</td>\n",
       "      <td>ufp_not_honored</td>\n",
       "      <td>NaN</td>\n",
       "      <td>208.0</td>\n",
       "      <td>15.0</td>\n",
       "      <td>False</td>\n",
       "      <td>NaN</td>\n",
       "      <td>False</td>\n",
       "      <td>False</td>\n",
       "    </tr>\n",
       "    <tr>\n",
       "      <th>3</th>\n",
       "      <td>d3b1230c-7409-4e4e-bc29-5d1f6cc18dc1</td>\n",
       "      <td>e18fa882-cf34-4c19-9bb0-cf4067022310</td>\n",
       "      <td>3</td>\n",
       "      <td>EUR</td>\n",
       "      <td>Europe/Paris</td>\n",
       "      <td>Black</td>\n",
       "      <td>NaN</td>\n",
       "      <td>uberX</td>\n",
       "      <td>UberX</td>\n",
       "      <td>2022-01-31T17:30:04.000Z</td>\n",
       "      <td>...</td>\n",
       "      <td>NaN</td>\n",
       "      <td>NaN</td>\n",
       "      <td>ufp_honored</td>\n",
       "      <td>NaN</td>\n",
       "      <td>208.0</td>\n",
       "      <td>10.0</td>\n",
       "      <td>False</td>\n",
       "      <td>NaN</td>\n",
       "      <td>False</td>\n",
       "      <td>False</td>\n",
       "    </tr>\n",
       "    <tr>\n",
       "      <th>4</th>\n",
       "      <td>08ef1035-6141-46bd-9fa5-a51794e69d05</td>\n",
       "      <td>e18fa882-cf34-4c19-9bb0-cf4067022310</td>\n",
       "      <td>3</td>\n",
       "      <td>EUR</td>\n",
       "      <td>Europe/Paris</td>\n",
       "      <td>Black</td>\n",
       "      <td>NaN</td>\n",
       "      <td>GREEN</td>\n",
       "      <td>UberX</td>\n",
       "      <td>2022-01-31T16:30:40.000Z</td>\n",
       "      <td>...</td>\n",
       "      <td>NaN</td>\n",
       "      <td>NaN</td>\n",
       "      <td>ufp_not_honored</td>\n",
       "      <td>NaN</td>\n",
       "      <td>208.0</td>\n",
       "      <td>1.0</td>\n",
       "      <td>False</td>\n",
       "      <td>NaN</td>\n",
       "      <td>False</td>\n",
       "      <td>False</td>\n",
       "    </tr>\n",
       "  </tbody>\n",
       "</table>\n",
       "<p>5 rows × 88 columns</p>\n",
       "</div>"
      ],
      "text/plain": [
       "                                   uuid                          vehicle_uuid  \\\n",
       "0  350df378-4497-42a0-9910-487ef5acd990  e18fa882-cf34-4c19-9bb0-cf4067022310   \n",
       "1  3afbb3a4-412a-4f3d-a0f4-f9ba79641b44  e18fa882-cf34-4c19-9bb0-cf4067022310   \n",
       "2  1f04d2cb-0222-4f0a-bfaa-36fcde986262  e18fa882-cf34-4c19-9bb0-cf4067022310   \n",
       "3  d3b1230c-7409-4e4e-bc29-5d1f6cc18dc1  e18fa882-cf34-4c19-9bb0-cf4067022310   \n",
       "4  08ef1035-6141-46bd-9fa5-a51794e69d05  e18fa882-cf34-4c19-9bb0-cf4067022310   \n",
       "\n",
       "   city_id currency_code      timezone   flow source_tag product_type_name  \\\n",
       "0        3           EUR  Europe/Paris  Black        NaN             uberX   \n",
       "1        3           EUR  Europe/Paris  Black        NaN             GREEN   \n",
       "2        3           EUR  Europe/Paris  Black        NaN             uberX   \n",
       "3        3           EUR  Europe/Paris  Black        NaN             uberX   \n",
       "4        3           EUR  Europe/Paris  Black        NaN             GREEN   \n",
       "\n",
       "  global_product_name   request_timestamp_local  ...  \\\n",
       "0               UberX  2022-02-02T19:29:37.000Z  ...   \n",
       "1               UberX  2022-02-02T18:29:26.000Z  ...   \n",
       "2               UberX  2022-02-02T14:21:19.000Z  ...   \n",
       "3               UberX  2022-01-31T17:30:04.000Z  ...   \n",
       "4               UberX  2022-01-31T16:30:40.000Z  ...   \n",
       "\n",
       "  long_distance_surcharge_usd guaranteed_surge_multiplier         ufp_type  \\\n",
       "0                         NaN                         NaN      ufp_honored   \n",
       "1                         NaN                         NaN      ufp_honored   \n",
       "2                         NaN                         NaN  ufp_not_honored   \n",
       "3                         NaN                         NaN      ufp_honored   \n",
       "4                         NaN                         NaN  ufp_not_honored   \n",
       "\n",
       "  cancellation_type carrier_mcc  carrier_mnc  is_directed_dispatch_trip  \\\n",
       "0               NaN       208.0         20.0                      False   \n",
       "1               NaN       270.0         77.0                      False   \n",
       "2               NaN       208.0         15.0                      False   \n",
       "3               NaN       208.0         10.0                      False   \n",
       "4               NaN       208.0          1.0                      False   \n",
       "\n",
       "   wait_duration_minutes  is_scheduled_trip  is_airport_trip  \n",
       "0                    NaN              False            False  \n",
       "1                    NaN              False            False  \n",
       "2                    NaN              False            False  \n",
       "3                    NaN              False            False  \n",
       "4                    NaN              False            False  \n",
       "\n",
       "[5 rows x 88 columns]"
      ]
     },
     "execution_count": 11,
     "metadata": {},
     "output_type": "execute_result"
    }
   ],
   "source": [
    "driver_lifetime.head()"
   ]
  },
  {
   "cell_type": "markdown",
   "id": "39820f00-fe22-4304-a893-937586376b84",
   "metadata": {},
   "source": [
    "## 02.01 Suppression des colonnes inutils"
   ]
  },
  {
   "cell_type": "code",
   "execution_count": 35,
   "id": "7a7ee3cb-5d3d-4f11-a35c-9623338a4303",
   "metadata": {},
   "outputs": [],
   "source": [
    "# Suppression des colones avec une seule valeurs\n",
    "\n",
    "unique_counts = driver_lifetime.nunique(dropna=True)\n",
    "unique_counts_nan = driver_lifetime.nunique(dropna=False)\n",
    "columns_to_drop_unique = unique_counts[unique_counts == 1].index.append(unique_counts_nan[unique_counts_nan == 1].index)\n"
   ]
  },
  {
   "cell_type": "code",
   "execution_count": 36,
   "id": "001e378f-acb3-4668-b8a2-c5f1f30bdb20",
   "metadata": {},
   "outputs": [
    {
     "data": {
      "text/plain": [
       "28"
      ]
     },
     "execution_count": 36,
     "metadata": {},
     "output_type": "execute_result"
    }
   ],
   "source": [
    "# nombre de colonnes avec une seul valeurs \n",
    "len(set(columns_to_drop_unique))"
   ]
  },
  {
   "cell_type": "code",
   "execution_count": 37,
   "id": "498bc53b-21ef-4744-ab89-96766ff59f17",
   "metadata": {},
   "outputs": [
    {
     "data": {
      "text/plain": [
       "Index(['city_id', 'currency_code', 'timezone', 'flow', 'source_tag',\n",
       "       'has_destination', 'is_pool_matched', 'is_flat_rate',\n",
       "       'is_wait_time_eligible', 'rewindtrip_timestamp_local',\n",
       "       'rewindtrip_timestamp_utc', 'rounding_down_amount_local',\n",
       "       'rounding_down_amount_usd', 'concierge_source_type',\n",
       "       'cancellation_type', 'is_directed_dispatch_trip', 'city_id',\n",
       "       'currency_code', 'timezone', 'has_destination', 'is_pool_matched',\n",
       "       'is_flat_rate', 'is_wait_time_eligible', 'service_fee_local',\n",
       "       'service_fee_usd', 'toll_amount_local', 'toll_amount_usd',\n",
       "       'booking_fee_local', 'booking_fee_usd', 'earnings_boost_local',\n",
       "       'earnings_boost_usd', 'is_on_time', 'long_distance_surcharge_local',\n",
       "       'long_distance_surcharge_usd', 'guaranteed_surge_multiplier',\n",
       "       'is_directed_dispatch_trip'],\n",
       "      dtype='object')"
      ]
     },
     "execution_count": 37,
     "metadata": {},
     "output_type": "execute_result"
    }
   ],
   "source": [
    "columns_to_drop_unique"
   ]
  },
  {
   "cell_type": "code",
   "execution_count": 44,
   "id": "3a2c0802-c575-4a3c-baf3-458f9198cbb9",
   "metadata": {},
   "outputs": [
    {
     "data": {
      "text/plain": [
       "city_id                             0\n",
       "currency_code                       0\n",
       "timezone                            0\n",
       "flow                                2\n",
       "source_tag                       2308\n",
       "has_destination                     0\n",
       "is_pool_matched                     0\n",
       "is_flat_rate                        0\n",
       "is_wait_time_eligible               0\n",
       "rewindtrip_timestamp_local       2309\n",
       "rewindtrip_timestamp_utc         2309\n",
       "rounding_down_amount_local        199\n",
       "rounding_down_amount_usd          199\n",
       "concierge_source_type            2309\n",
       "cancellation_type                2266\n",
       "is_directed_dispatch_trip           0\n",
       "service_fee_local                2310\n",
       "service_fee_usd                  2310\n",
       "toll_amount_local                2310\n",
       "toll_amount_usd                  2310\n",
       "booking_fee_local                2310\n",
       "booking_fee_usd                  2310\n",
       "earnings_boost_local             2310\n",
       "earnings_boost_usd               2310\n",
       "is_on_time                       2310\n",
       "long_distance_surcharge_local    2310\n",
       "long_distance_surcharge_usd      2310\n",
       "guaranteed_surge_multiplier      2310\n",
       "dtype: int64"
      ]
     },
     "execution_count": 44,
     "metadata": {},
     "output_type": "execute_result"
    }
   ],
   "source": [
    "Driver_Lifetime_Trips[columns_to_drop_unique.drop_duplicates()].isna().sum()"
   ]
  },
  {
   "cell_type": "code",
   "execution_count": 39,
   "id": "8844301a-6fc2-49e7-a593-591cfb83edf8",
   "metadata": {},
   "outputs": [],
   "source": [
    "driver_lifetime.drop(columns=columns_to_drop_unique, inplace=True)"
   ]
  },
  {
   "cell_type": "code",
   "execution_count": 40,
   "id": "38acbe66-e9e8-4dc9-ab4f-72ee08c8e8a7",
   "metadata": {},
   "outputs": [
    {
     "data": {
      "text/plain": [
       "(2310, 60)"
      ]
     },
     "execution_count": 40,
     "metadata": {},
     "output_type": "execute_result"
    }
   ],
   "source": [
    "driver_lifetime.shape"
   ]
  },
  {
   "cell_type": "code",
   "execution_count": 45,
   "id": "bafcd33d-44ab-459b-9920-5fa2c2f29113",
   "metadata": {},
   "outputs": [],
   "source": [
    "# Suppression des colonnes en double (unités de mesures)\n",
    "\n",
    "chaîne = '_utc|_usd'\n",
    "columns_to_drop_doublon = driver_lifetime.filter(regex=chaîne).columns"
   ]
  },
  {
   "cell_type": "code",
   "execution_count": 46,
   "id": "965d604d-038a-46a6-9e4a-bbc1fe954624",
   "metadata": {},
   "outputs": [
    {
     "data": {
      "text/plain": [
       "14"
      ]
     },
     "execution_count": 46,
     "metadata": {},
     "output_type": "execute_result"
    }
   ],
   "source": [
    "len(columns_to_drop_doublon)"
   ]
  },
  {
   "cell_type": "code",
   "execution_count": 47,
   "id": "720c62de-a2f7-49e0-9d69-9ae98fac7966",
   "metadata": {},
   "outputs": [
    {
     "data": {
      "text/plain": [
       "Index(['request_timestamp_utc', 'begintrip_timestamp_utc',\n",
       "       'dropoff_timestamp_utc', 'promotion_usd', 'credits_usd',\n",
       "       'driver_upfront_fare_usd', 'original_fare_usd', 'base_fare_usd',\n",
       "       'surge_fare_usd', 'minimum_fare_roundup_usd', 'per_mile_fare_usd',\n",
       "       'per_minute_fare_usd', 'cancellation_fee_usd', 'wait_time_fare_usd'],\n",
       "      dtype='object')"
      ]
     },
     "execution_count": 47,
     "metadata": {},
     "output_type": "execute_result"
    }
   ],
   "source": [
    "columns_to_drop_doublon"
   ]
  },
  {
   "cell_type": "code",
   "execution_count": 48,
   "id": "5f31cb0f-2b30-42ff-b24f-fb2dfc39035c",
   "metadata": {},
   "outputs": [],
   "source": [
    "driver_lifetime.drop(columns=columns_to_drop_doublon, inplace=True)"
   ]
  },
  {
   "cell_type": "code",
   "execution_count": 49,
   "id": "0bec92c9-6bb8-4660-b841-094d986b4a16",
   "metadata": {},
   "outputs": [
    {
     "data": {
      "text/plain": [
       "(2310, 46)"
      ]
     },
     "execution_count": 49,
     "metadata": {},
     "output_type": "execute_result"
    }
   ],
   "source": [
    "driver_lifetime.shape"
   ]
  },
  {
   "cell_type": "code",
   "execution_count": 55,
   "id": "c021780d-c01a-4e0b-aa58-4c7482da953b",
   "metadata": {},
   "outputs": [
    {
     "data": {
      "text/plain": [
       "uuid                                    0\n",
       "vehicle_uuid                            0\n",
       "product_type_name                       0\n",
       "global_product_name                     0\n",
       "request_timestamp_local                 0\n",
       "begintrip_timestamp_local             198\n",
       "dropoff_timestamp_local               201\n",
       "eta                                    13\n",
       "surge_multiplier                        0\n",
       "is_surged                               0\n",
       "is_star_power                           0\n",
       "request_to_begin_distance_miles        13\n",
       "request_to_begin_duration_seconds     198\n",
       "trip_distance_miles                     0\n",
       "trip_duration_seconds                   0\n",
       "status                                  0\n",
       "is_completed                            0\n",
       "is_cash_trip                            0\n",
       "is_rewindtrip                           0\n",
       "promotion_local                      2273\n",
       "credits_local                        2303\n",
       "has_driver_upfront_fare                 0\n",
       "driver_upfront_fare_local             336\n",
       "original_fare_local                     0\n",
       "base_fare_local                       199\n",
       "surge_fare_local                      200\n",
       "minimum_fare_roundup_local           2304\n",
       "per_mile_fare_local                   199\n",
       "per_minute_fare_local                 199\n",
       "cancellation_fee_local                  0\n",
       "fare_distance_miles                   199\n",
       "fare_duration_minutes                 199\n",
       "request_date_id_local                   0\n",
       "driver_trip_number                    201\n",
       "wait_time_fare_local                 2186\n",
       "commission_rate                        13\n",
       "driver_cancellation_reason           2268\n",
       "vehicle_trip_number                   201\n",
       "is_multidestination                     0\n",
       "driver_surge_multiplier                 0\n",
       "ufp_type                               12\n",
       "carrier_mcc                           164\n",
       "carrier_mnc                           164\n",
       "wait_duration_minutes                2186\n",
       "is_scheduled_trip                       0\n",
       "is_airport_trip                         0\n",
       "dtype: int64"
      ]
     },
     "execution_count": 55,
     "metadata": {},
     "output_type": "execute_result"
    }
   ],
   "source": [
    "driver_lifetime.isna().sum()"
   ]
  },
  {
   "cell_type": "markdown",
   "id": "e7dcad14-f05c-4eb3-acd1-97ade24b8583",
   "metadata": {},
   "source": [
    "## 02.02 Valeurs Null"
   ]
  },
  {
   "cell_type": "code",
   "execution_count": 57,
   "id": "53079f13-dc64-4d69-93e9-22bb25db16f4",
   "metadata": {},
   "outputs": [],
   "source": [
    "# colonnes avec des valeurs null\n",
    "col_with_nan = driver_lifetime.columns[driver_lifetime.isna().sum() != 0]"
   ]
  },
  {
   "cell_type": "code",
   "execution_count": 59,
   "id": "5cff1d91-b70b-4240-b3d7-dbbca796d978",
   "metadata": {},
   "outputs": [
    {
     "data": {
      "text/html": [
       "<div>\n",
       "<style scoped>\n",
       "    .dataframe tbody tr th:only-of-type {\n",
       "        vertical-align: middle;\n",
       "    }\n",
       "\n",
       "    .dataframe tbody tr th {\n",
       "        vertical-align: top;\n",
       "    }\n",
       "\n",
       "    .dataframe thead th {\n",
       "        text-align: right;\n",
       "    }\n",
       "</style>\n",
       "<table border=\"1\" class=\"dataframe\">\n",
       "  <thead>\n",
       "    <tr style=\"text-align: right;\">\n",
       "      <th></th>\n",
       "      <th>begintrip_timestamp_local</th>\n",
       "      <th>dropoff_timestamp_local</th>\n",
       "      <th>eta</th>\n",
       "      <th>request_to_begin_distance_miles</th>\n",
       "      <th>request_to_begin_duration_seconds</th>\n",
       "      <th>promotion_local</th>\n",
       "      <th>credits_local</th>\n",
       "      <th>driver_upfront_fare_local</th>\n",
       "      <th>base_fare_local</th>\n",
       "      <th>surge_fare_local</th>\n",
       "      <th>...</th>\n",
       "      <th>fare_duration_minutes</th>\n",
       "      <th>driver_trip_number</th>\n",
       "      <th>wait_time_fare_local</th>\n",
       "      <th>commission_rate</th>\n",
       "      <th>driver_cancellation_reason</th>\n",
       "      <th>vehicle_trip_number</th>\n",
       "      <th>ufp_type</th>\n",
       "      <th>carrier_mcc</th>\n",
       "      <th>carrier_mnc</th>\n",
       "      <th>wait_duration_minutes</th>\n",
       "    </tr>\n",
       "  </thead>\n",
       "  <tbody>\n",
       "    <tr>\n",
       "      <th>0</th>\n",
       "      <td>2022-02-02T19:31:44.000Z</td>\n",
       "      <td>2022-02-02T19:53:15.000Z</td>\n",
       "      <td>102.0</td>\n",
       "      <td>0.009572</td>\n",
       "      <td>127.0</td>\n",
       "      <td>NaN</td>\n",
       "      <td>NaN</td>\n",
       "      <td>17.72</td>\n",
       "      <td>0.0</td>\n",
       "      <td>0.00</td>\n",
       "      <td>...</td>\n",
       "      <td>21.516667</td>\n",
       "      <td>2096.0</td>\n",
       "      <td>NaN</td>\n",
       "      <td>0.25</td>\n",
       "      <td>NaN</td>\n",
       "      <td>857.0</td>\n",
       "      <td>ufp_honored</td>\n",
       "      <td>208.0</td>\n",
       "      <td>20.0</td>\n",
       "      <td>NaN</td>\n",
       "    </tr>\n",
       "    <tr>\n",
       "      <th>1</th>\n",
       "      <td>2022-02-02T18:35:24.000Z</td>\n",
       "      <td>2022-02-02T19:05:16.000Z</td>\n",
       "      <td>179.0</td>\n",
       "      <td>0.011941</td>\n",
       "      <td>358.0</td>\n",
       "      <td>NaN</td>\n",
       "      <td>NaN</td>\n",
       "      <td>20.28</td>\n",
       "      <td>0.0</td>\n",
       "      <td>0.00</td>\n",
       "      <td>...</td>\n",
       "      <td>29.866667</td>\n",
       "      <td>2095.0</td>\n",
       "      <td>NaN</td>\n",
       "      <td>0.25</td>\n",
       "      <td>NaN</td>\n",
       "      <td>856.0</td>\n",
       "      <td>ufp_honored</td>\n",
       "      <td>270.0</td>\n",
       "      <td>77.0</td>\n",
       "      <td>NaN</td>\n",
       "    </tr>\n",
       "    <tr>\n",
       "      <th>2</th>\n",
       "      <td>2022-02-02T14:24:09.000Z</td>\n",
       "      <td>2022-02-02T14:38:59.000Z</td>\n",
       "      <td>183.0</td>\n",
       "      <td>0.003741</td>\n",
       "      <td>170.0</td>\n",
       "      <td>NaN</td>\n",
       "      <td>NaN</td>\n",
       "      <td>NaN</td>\n",
       "      <td>0.0</td>\n",
       "      <td>0.00</td>\n",
       "      <td>...</td>\n",
       "      <td>14.833333</td>\n",
       "      <td>2094.0</td>\n",
       "      <td>NaN</td>\n",
       "      <td>0.25</td>\n",
       "      <td>NaN</td>\n",
       "      <td>855.0</td>\n",
       "      <td>ufp_not_honored</td>\n",
       "      <td>208.0</td>\n",
       "      <td>15.0</td>\n",
       "      <td>NaN</td>\n",
       "    </tr>\n",
       "    <tr>\n",
       "      <th>3</th>\n",
       "      <td>2022-01-31T17:36:28.000Z</td>\n",
       "      <td>2022-01-31T18:05:34.000Z</td>\n",
       "      <td>258.0</td>\n",
       "      <td>0.002467</td>\n",
       "      <td>384.0</td>\n",
       "      <td>NaN</td>\n",
       "      <td>NaN</td>\n",
       "      <td>18.53</td>\n",
       "      <td>0.0</td>\n",
       "      <td>0.00</td>\n",
       "      <td>...</td>\n",
       "      <td>29.100000</td>\n",
       "      <td>2093.0</td>\n",
       "      <td>NaN</td>\n",
       "      <td>0.25</td>\n",
       "      <td>NaN</td>\n",
       "      <td>854.0</td>\n",
       "      <td>ufp_honored</td>\n",
       "      <td>208.0</td>\n",
       "      <td>10.0</td>\n",
       "      <td>NaN</td>\n",
       "    </tr>\n",
       "    <tr>\n",
       "      <th>4</th>\n",
       "      <td>2022-01-31T16:43:28.000Z</td>\n",
       "      <td>2022-01-31T17:26:52.000Z</td>\n",
       "      <td>358.0</td>\n",
       "      <td>0.441247</td>\n",
       "      <td>768.0</td>\n",
       "      <td>NaN</td>\n",
       "      <td>NaN</td>\n",
       "      <td>NaN</td>\n",
       "      <td>0.0</td>\n",
       "      <td>3.34</td>\n",
       "      <td>...</td>\n",
       "      <td>43.400000</td>\n",
       "      <td>2092.0</td>\n",
       "      <td>NaN</td>\n",
       "      <td>0.25</td>\n",
       "      <td>NaN</td>\n",
       "      <td>853.0</td>\n",
       "      <td>ufp_not_honored</td>\n",
       "      <td>208.0</td>\n",
       "      <td>1.0</td>\n",
       "      <td>NaN</td>\n",
       "    </tr>\n",
       "    <tr>\n",
       "      <th>...</th>\n",
       "      <td>...</td>\n",
       "      <td>...</td>\n",
       "      <td>...</td>\n",
       "      <td>...</td>\n",
       "      <td>...</td>\n",
       "      <td>...</td>\n",
       "      <td>...</td>\n",
       "      <td>...</td>\n",
       "      <td>...</td>\n",
       "      <td>...</td>\n",
       "      <td>...</td>\n",
       "      <td>...</td>\n",
       "      <td>...</td>\n",
       "      <td>...</td>\n",
       "      <td>...</td>\n",
       "      <td>...</td>\n",
       "      <td>...</td>\n",
       "      <td>...</td>\n",
       "      <td>...</td>\n",
       "      <td>...</td>\n",
       "      <td>...</td>\n",
       "    </tr>\n",
       "    <tr>\n",
       "      <th>2305</th>\n",
       "      <td>2020-08-23T00:43:15.000Z</td>\n",
       "      <td>2020-08-23T01:08:10.000Z</td>\n",
       "      <td>245.0</td>\n",
       "      <td>0.018949</td>\n",
       "      <td>183.0</td>\n",
       "      <td>NaN</td>\n",
       "      <td>NaN</td>\n",
       "      <td>17.10</td>\n",
       "      <td>1.2</td>\n",
       "      <td>0.00</td>\n",
       "      <td>...</td>\n",
       "      <td>24.916667</td>\n",
       "      <td>5.0</td>\n",
       "      <td>NaN</td>\n",
       "      <td>0.25</td>\n",
       "      <td>NaN</td>\n",
       "      <td>676.0</td>\n",
       "      <td>ufp_honored</td>\n",
       "      <td>NaN</td>\n",
       "      <td>NaN</td>\n",
       "      <td>NaN</td>\n",
       "    </tr>\n",
       "    <tr>\n",
       "      <th>2306</th>\n",
       "      <td>2020-08-23T00:20:22.000Z</td>\n",
       "      <td>2020-08-23T00:30:39.000Z</td>\n",
       "      <td>149.0</td>\n",
       "      <td>0.004029</td>\n",
       "      <td>192.0</td>\n",
       "      <td>NaN</td>\n",
       "      <td>NaN</td>\n",
       "      <td>6.22</td>\n",
       "      <td>1.2</td>\n",
       "      <td>0.00</td>\n",
       "      <td>...</td>\n",
       "      <td>10.283333</td>\n",
       "      <td>4.0</td>\n",
       "      <td>NaN</td>\n",
       "      <td>0.25</td>\n",
       "      <td>NaN</td>\n",
       "      <td>675.0</td>\n",
       "      <td>ufp_honored</td>\n",
       "      <td>NaN</td>\n",
       "      <td>NaN</td>\n",
       "      <td>NaN</td>\n",
       "    </tr>\n",
       "    <tr>\n",
       "      <th>2307</th>\n",
       "      <td>2020-08-23T00:10:54.000Z</td>\n",
       "      <td>2020-08-23T00:17:19.000Z</td>\n",
       "      <td>13.0</td>\n",
       "      <td>0.012332</td>\n",
       "      <td>304.0</td>\n",
       "      <td>NaN</td>\n",
       "      <td>NaN</td>\n",
       "      <td>6.00</td>\n",
       "      <td>1.2</td>\n",
       "      <td>0.00</td>\n",
       "      <td>...</td>\n",
       "      <td>6.416667</td>\n",
       "      <td>3.0</td>\n",
       "      <td>NaN</td>\n",
       "      <td>0.25</td>\n",
       "      <td>NaN</td>\n",
       "      <td>674.0</td>\n",
       "      <td>ufp_honored</td>\n",
       "      <td>NaN</td>\n",
       "      <td>NaN</td>\n",
       "      <td>NaN</td>\n",
       "    </tr>\n",
       "    <tr>\n",
       "      <th>2308</th>\n",
       "      <td>2020-08-22T23:21:58.000Z</td>\n",
       "      <td>2020-08-22T23:46:06.000Z</td>\n",
       "      <td>90.0</td>\n",
       "      <td>0.003192</td>\n",
       "      <td>264.0</td>\n",
       "      <td>NaN</td>\n",
       "      <td>NaN</td>\n",
       "      <td>14.41</td>\n",
       "      <td>1.2</td>\n",
       "      <td>0.00</td>\n",
       "      <td>...</td>\n",
       "      <td>24.133333</td>\n",
       "      <td>2.0</td>\n",
       "      <td>NaN</td>\n",
       "      <td>0.25</td>\n",
       "      <td>NaN</td>\n",
       "      <td>673.0</td>\n",
       "      <td>ufp_honored</td>\n",
       "      <td>NaN</td>\n",
       "      <td>NaN</td>\n",
       "      <td>NaN</td>\n",
       "    </tr>\n",
       "    <tr>\n",
       "      <th>2309</th>\n",
       "      <td>2020-08-22T22:27:54.000Z</td>\n",
       "      <td>2020-08-22T22:59:51.000Z</td>\n",
       "      <td>396.0</td>\n",
       "      <td>0.006009</td>\n",
       "      <td>447.0</td>\n",
       "      <td>NaN</td>\n",
       "      <td>NaN</td>\n",
       "      <td>23.61</td>\n",
       "      <td>1.2</td>\n",
       "      <td>0.00</td>\n",
       "      <td>...</td>\n",
       "      <td>31.950000</td>\n",
       "      <td>1.0</td>\n",
       "      <td>NaN</td>\n",
       "      <td>0.25</td>\n",
       "      <td>NaN</td>\n",
       "      <td>672.0</td>\n",
       "      <td>ufp_honored</td>\n",
       "      <td>NaN</td>\n",
       "      <td>NaN</td>\n",
       "      <td>NaN</td>\n",
       "    </tr>\n",
       "  </tbody>\n",
       "</table>\n",
       "<p>2310 rows × 24 columns</p>\n",
       "</div>"
      ],
      "text/plain": [
       "     begintrip_timestamp_local   dropoff_timestamp_local    eta  \\\n",
       "0     2022-02-02T19:31:44.000Z  2022-02-02T19:53:15.000Z  102.0   \n",
       "1     2022-02-02T18:35:24.000Z  2022-02-02T19:05:16.000Z  179.0   \n",
       "2     2022-02-02T14:24:09.000Z  2022-02-02T14:38:59.000Z  183.0   \n",
       "3     2022-01-31T17:36:28.000Z  2022-01-31T18:05:34.000Z  258.0   \n",
       "4     2022-01-31T16:43:28.000Z  2022-01-31T17:26:52.000Z  358.0   \n",
       "...                        ...                       ...    ...   \n",
       "2305  2020-08-23T00:43:15.000Z  2020-08-23T01:08:10.000Z  245.0   \n",
       "2306  2020-08-23T00:20:22.000Z  2020-08-23T00:30:39.000Z  149.0   \n",
       "2307  2020-08-23T00:10:54.000Z  2020-08-23T00:17:19.000Z   13.0   \n",
       "2308  2020-08-22T23:21:58.000Z  2020-08-22T23:46:06.000Z   90.0   \n",
       "2309  2020-08-22T22:27:54.000Z  2020-08-22T22:59:51.000Z  396.0   \n",
       "\n",
       "      request_to_begin_distance_miles  request_to_begin_duration_seconds  \\\n",
       "0                            0.009572                              127.0   \n",
       "1                            0.011941                              358.0   \n",
       "2                            0.003741                              170.0   \n",
       "3                            0.002467                              384.0   \n",
       "4                            0.441247                              768.0   \n",
       "...                               ...                                ...   \n",
       "2305                         0.018949                              183.0   \n",
       "2306                         0.004029                              192.0   \n",
       "2307                         0.012332                              304.0   \n",
       "2308                         0.003192                              264.0   \n",
       "2309                         0.006009                              447.0   \n",
       "\n",
       "      promotion_local  credits_local  driver_upfront_fare_local  \\\n",
       "0                 NaN            NaN                      17.72   \n",
       "1                 NaN            NaN                      20.28   \n",
       "2                 NaN            NaN                        NaN   \n",
       "3                 NaN            NaN                      18.53   \n",
       "4                 NaN            NaN                        NaN   \n",
       "...               ...            ...                        ...   \n",
       "2305              NaN            NaN                      17.10   \n",
       "2306              NaN            NaN                       6.22   \n",
       "2307              NaN            NaN                       6.00   \n",
       "2308              NaN            NaN                      14.41   \n",
       "2309              NaN            NaN                      23.61   \n",
       "\n",
       "      base_fare_local  surge_fare_local  ...  fare_duration_minutes  \\\n",
       "0                 0.0              0.00  ...              21.516667   \n",
       "1                 0.0              0.00  ...              29.866667   \n",
       "2                 0.0              0.00  ...              14.833333   \n",
       "3                 0.0              0.00  ...              29.100000   \n",
       "4                 0.0              3.34  ...              43.400000   \n",
       "...               ...               ...  ...                    ...   \n",
       "2305              1.2              0.00  ...              24.916667   \n",
       "2306              1.2              0.00  ...              10.283333   \n",
       "2307              1.2              0.00  ...               6.416667   \n",
       "2308              1.2              0.00  ...              24.133333   \n",
       "2309              1.2              0.00  ...              31.950000   \n",
       "\n",
       "      driver_trip_number  wait_time_fare_local  commission_rate  \\\n",
       "0                 2096.0                   NaN             0.25   \n",
       "1                 2095.0                   NaN             0.25   \n",
       "2                 2094.0                   NaN             0.25   \n",
       "3                 2093.0                   NaN             0.25   \n",
       "4                 2092.0                   NaN             0.25   \n",
       "...                  ...                   ...              ...   \n",
       "2305                 5.0                   NaN             0.25   \n",
       "2306                 4.0                   NaN             0.25   \n",
       "2307                 3.0                   NaN             0.25   \n",
       "2308                 2.0                   NaN             0.25   \n",
       "2309                 1.0                   NaN             0.25   \n",
       "\n",
       "      driver_cancellation_reason  vehicle_trip_number         ufp_type  \\\n",
       "0                            NaN                857.0      ufp_honored   \n",
       "1                            NaN                856.0      ufp_honored   \n",
       "2                            NaN                855.0  ufp_not_honored   \n",
       "3                            NaN                854.0      ufp_honored   \n",
       "4                            NaN                853.0  ufp_not_honored   \n",
       "...                          ...                  ...              ...   \n",
       "2305                         NaN                676.0      ufp_honored   \n",
       "2306                         NaN                675.0      ufp_honored   \n",
       "2307                         NaN                674.0      ufp_honored   \n",
       "2308                         NaN                673.0      ufp_honored   \n",
       "2309                         NaN                672.0      ufp_honored   \n",
       "\n",
       "      carrier_mcc  carrier_mnc  wait_duration_minutes  \n",
       "0           208.0         20.0                    NaN  \n",
       "1           270.0         77.0                    NaN  \n",
       "2           208.0         15.0                    NaN  \n",
       "3           208.0         10.0                    NaN  \n",
       "4           208.0          1.0                    NaN  \n",
       "...           ...          ...                    ...  \n",
       "2305          NaN          NaN                    NaN  \n",
       "2306          NaN          NaN                    NaN  \n",
       "2307          NaN          NaN                    NaN  \n",
       "2308          NaN          NaN                    NaN  \n",
       "2309          NaN          NaN                    NaN  \n",
       "\n",
       "[2310 rows x 24 columns]"
      ]
     },
     "execution_count": 59,
     "metadata": {},
     "output_type": "execute_result"
    }
   ],
   "source": [
    "driver_lifetime[col_with_nan]"
   ]
  },
  {
   "cell_type": "code",
   "execution_count": 63,
   "id": "5961c0fb-9906-4e84-adf2-ffaf2e1e7f33",
   "metadata": {},
   "outputs": [
    {
     "data": {
      "text/plain": [
       "minimum_fare_roundup_local           2304\n",
       "credits_local                        2303\n",
       "promotion_local                      2273\n",
       "driver_cancellation_reason           2268\n",
       "wait_duration_minutes                2186\n",
       "wait_time_fare_local                 2186\n",
       "driver_upfront_fare_local             336\n",
       "vehicle_trip_number                   201\n",
       "dropoff_timestamp_local               201\n",
       "driver_trip_number                    201\n",
       "surge_fare_local                      200\n",
       "per_mile_fare_local                   199\n",
       "base_fare_local                       199\n",
       "fare_duration_minutes                 199\n",
       "per_minute_fare_local                 199\n",
       "fare_distance_miles                   199\n",
       "request_to_begin_duration_seconds     198\n",
       "begintrip_timestamp_local             198\n",
       "carrier_mcc                           164\n",
       "carrier_mnc                           164\n",
       "commission_rate                        13\n",
       "request_to_begin_distance_miles        13\n",
       "eta                                    13\n",
       "ufp_type                               12\n",
       "is_multidestination                     0\n",
       "driver_surge_multiplier                 0\n",
       "request_date_id_local                   0\n",
       "is_scheduled_trip                       0\n",
       "uuid                                    0\n",
       "original_fare_local                     0\n",
       "cancellation_fee_local                  0\n",
       "vehicle_uuid                            0\n",
       "has_driver_upfront_fare                 0\n",
       "is_rewindtrip                           0\n",
       "is_cash_trip                            0\n",
       "is_completed                            0\n",
       "status                                  0\n",
       "trip_duration_seconds                   0\n",
       "trip_distance_miles                     0\n",
       "is_star_power                           0\n",
       "is_surged                               0\n",
       "surge_multiplier                        0\n",
       "request_timestamp_local                 0\n",
       "global_product_name                     0\n",
       "product_type_name                       0\n",
       "is_airport_trip                         0\n",
       "dtype: int64"
      ]
     },
     "execution_count": 63,
     "metadata": {},
     "output_type": "execute_result"
    }
   ],
   "source": [
    "driver_lifetime.isna().sum().sort_values(ascending=False)"
   ]
  },
  {
   "cell_type": "code",
   "execution_count": 77,
   "id": "2bc2a0f7-c6e3-4837-9167-bc15288e5ef8",
   "metadata": {},
   "outputs": [
    {
     "data": {
      "text/plain": [
       "<matplotlib.axes._subplots.AxesSubplot at 0x28424a72fa0>"
      ]
     },
     "execution_count": 77,
     "metadata": {},
     "output_type": "execute_result"
    },
    {
     "data": {
      "image/png": "[encoded data removed]",
      "text/plain": [
       "<Figure size 432x288 with 1 Axes>"
      ]
     },
     "metadata": {
      "needs_background": "light"
     },
     "output_type": "display_data"
    }
   ],
   "source": [
    "driver_lifetime.eta.plot()"
   ]
  },
  {
   "cell_type": "code",
   "execution_count": null,
   "id": "34b8a483-c431-4bd5-9c7c-a6d62e3a06b1",
   "metadata": {},
   "outputs": [],
   "source": []
  }
 ],
 "metadata": {
  "kernelspec": {
   "display_name": "Python 3 (ipykernel)",
   "language": "python",
   "name": "python3"
  },
  "language_info": {
   "codemirror_mode": {
    "name": "ipython",
    "version": 3
   },
   "file_extension": ".py",
   "mimetype": "text/x-python",
   "name": "python",
   "nbconvert_exporter": "python",
   "pygments_lexer": "ipython3",
   "version": "3.8.12"
  }
 },
 "nbformat": 4,
 "nbformat_minor": 5
}
